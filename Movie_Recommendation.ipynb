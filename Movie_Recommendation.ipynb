{
 "cells": [
  {
   "cell_type": "code",
   "execution_count": null,
   "metadata": {},
   "outputs": [],
   "source": [
    "import pandas as pd\n",
    "import numpy as np\n",
    "from scipy.sparse.linalg import svds\n"
   ]
  },
  {
   "cell_type": "code",
   "execution_count": null,
   "metadata": {},
   "outputs": [],
   "source": [
    "movies_df=pd.read_csv('movies.csv')\n",
    "ratings_df=pd.read_csv('ratings.csv')\n",
    "\n",
    "movies_df.head(10)"
   ]
  },
  {
   "cell_type": "code",
   "execution_count": null,
   "metadata": {},
   "outputs": [],
   "source": [
    "Rating_df=ratings_df.pivot(index='userId',columns='movieId',values='rating').fillna(0)\n",
    "\n",
    "Rating_df.shape"
   ]
  },
  {
   "cell_type": "code",
   "execution_count": null,
   "metadata": {},
   "outputs": [],
   "source": [
    "Rate=Rating_df.values\n",
    "ratings_mean=np.mean(Rate,axis=1)\n",
    "R_demean = Rate - ratings_mean.reshape(-1,1)"
   ]
  },
  {
   "cell_type": "code",
   "execution_count": null,
   "metadata": {},
   "outputs": [],
   "source": [
    "U_matrix, sigma_values, Vtrans_matrix = svds(R_demean, k = 50)\n",
    "sigma_values"
   ]
  },
  {
   "cell_type": "code",
   "execution_count": null,
   "metadata": {},
   "outputs": [],
   "source": [
    "sigma_matrix = np.diag(sigma_values)\n",
    "\n",
    "sigma_matrix.shape"
   ]
  },
  {
   "cell_type": "code",
   "execution_count": null,
   "metadata": {},
   "outputs": [],
   "source": [
    "user_pred_ratings = np.dot(np.dot(U_matrix, sigma_matrix), Vtrans_matrix) + ratings_mean.reshape(-1, 1)\n",
    "predicted_df = pd.DataFrame(user_pred_ratings, columns = Rating_df.columns)"
   ]
  },
  {
   "cell_type": "code",
   "execution_count": null,
   "metadata": {},
   "outputs": [],
   "source": [
    "def recommend_movies(predictions_df, userId, movies_df, ratings_df, no_of_recommendations=5):\n",
    "    user_number = userId - 1 \n",
    "    predictions_values = predictions_df.iloc[user_number]\n",
    "\n",
    "    user_ratings =ratings_df[ratings_df.userId == (userId)]\n",
    "    user_rated_movies = (user_ratings.merge(movies_df, how = 'left', left_on = 'movieId', right_on = 'movieId').\n",
    "                     sort_values(['rating'], ascending=False)\n",
    "                 )\n",
    "\n",
    "    print ('User',userId,' has already rated',user_rated_movies.shape[0],' movies.' )\n",
    "    print ('Recommending the highest',no_of_recommendations,' predicted ratings movies not already rated.')\n",
    "    \n",
    "    # Recommend the highest predicted rating movies that the user hasn't seen yet.\n",
    "    recommend = (movies_df[~movies_df['movieId'].isin(user_rated_movies['movieId'])].\n",
    "         merge(pd.DataFrame(predictions_values).reset_index(), how = 'left',\n",
    "               left_on = 'movieId',\n",
    "               right_on = 'movieId').                   \n",
    "         rename(columns = {user_number: 'Predictions'}).\n",
    "         sort_values('Predictions', ascending = False).\n",
    "                       iloc[:no_of_recommendations, :-1]\n",
    "                      )\n",
    "    return  user_rated_movies, recommend\n",
    "\n",
    "previously_rated, recommendations = recommend_movies(predicted_df,500, movies_df, ratings_df, 10)"
   ]
  },
  {
   "cell_type": "code",
   "execution_count": null,
   "metadata": {},
   "outputs": [],
   "source": [
    "previously_rated"
   ]
  },
  {
   "cell_type": "code",
   "execution_count": null,
   "metadata": {},
   "outputs": [],
   "source": [
    "recommendations"
   ]
  },
  {
   "cell_type": "code",
   "execution_count": null,
   "metadata": {},
   "outputs": [],
   "source": []
  }
 ],
 "metadata": {
  "kernelspec": {
   "display_name": "General",
   "language": "python",
   "name": "general"
  },
  "language_info": {
   "codemirror_mode": {
    "name": "ipython",
    "version": 3
   },
   "file_extension": ".py",
   "mimetype": "text/x-python",
   "name": "python",
   "nbconvert_exporter": "python",
   "pygments_lexer": "ipython3",
   "version": "3.8.5"
  }
 },
 "nbformat": 4,
 "nbformat_minor": 4
}
